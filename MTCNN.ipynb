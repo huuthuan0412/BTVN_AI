from typing import KeysView
import matplotlib.pyplot as plt
from mtcnn import MTCNN
filename='/content/IMG_20201212_225903.jpg'
pixel=plt.imread(filename)
detector=MTCNN()
faces=detector.detect_faces(pixel)
data=plt.imread(filename)
plt.imshow(data)
ax=plt.gca()
for face in faces:
  print(face)
#danh khuon mat nguoi(dectect)
for face in faces:
  x,y, width,height=face['box']
  rect=plt.Rectangle((x,y),width,height,
                     fill=False,color='red')
  ax.add_patch(rect)
  for key,value in face['keypoints'].items():
    dot=plt.Circle(value,radius=2,color='red')
    ax.add_patch(dot)
plt.show()

#cat anh cac khuon mat nhan dang trong anh
def draw_faces (filename,result_list):
  data=plt.imread(filename)
  for i in range (len(result_list)):
    x1,y1,widht,height=result_list[i]['box']
    x2,y2=x1+widht,y1+height
    plt.subplot(1,len(result_list),i+1)
    plt.axis('off')
    plt.imshow(data[y1:y2,x1:x2])
  plt.show()
filename='/content/IMG_20201212_225903.jpg'
pixel=plt.imread(filename)
detector=MTCNN()
faces=detector.detect_faces(pixel)
draw_faces(filename,faces)

